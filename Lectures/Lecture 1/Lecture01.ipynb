{
 "cells": [
  {
   "cell_type": "markdown",
   "id": "d2f790d4-6470-4e80-8cc7-a8cf944da96d",
   "metadata": {},
   "source": [
    "# Lecture Notebook 01"
   ]
  },
  {
   "cell_type": "markdown",
   "id": "0f19b581-5f58-4401-80c7-8833e1cee77d",
   "metadata": {},
   "source": [
    "## Your first Python program"
   ]
  },
  {
   "cell_type": "code",
   "id": "643ad7dc-3b55-46cf-8e6f-2ff9af6d343c",
   "metadata": {},
   "source": [
    "print(\"Hello World!\")"
   ],
   "outputs": [],
   "execution_count": null
  },
  {
   "cell_type": "markdown",
   "id": "2ebfed7e-d335-4702-ab50-7083274d1263",
   "metadata": {},
   "source": [
    "## Variables"
   ]
  },
  {
   "cell_type": "code",
   "id": "19ae6df3-ac4c-49ad-90f0-b4d94ad66050",
   "metadata": {},
   "source": [
    "message = \"Hello Python world!\"\n",
    "print(message)"
   ],
   "outputs": [],
   "execution_count": null
  },
  {
   "cell_type": "code",
   "id": "55090c7c-0866-4651-919b-177bd6de9e59",
   "metadata": {},
   "source": [
    "message = \"Hello Python world!\"\n",
    "print(message)\n",
    "message = \"Hello Python Crash Course world!\"\n",
    "print(message)"
   ],
   "outputs": [],
   "execution_count": null
  },
  {
   "cell_type": "code",
   "id": "aff37643-32fb-4a32-9288-cf7cc1498af0",
   "metadata": {},
   "source": [
    "study_program = \"Master in Management\"\n",
    "print(study_program)"
   ],
   "outputs": [],
   "execution_count": null
  },
  {
   "cell_type": "code",
   "id": "9f7cf104-2c05-45fc-b96a-0d2213e4d78f",
   "metadata": {},
   "source": [
    "#1st_study_program = \"Master in Management\""
   ],
   "outputs": [],
   "execution_count": null
  },
  {
   "cell_type": "code",
   "id": "12be9c16-f841-4708-8757-61afac235c77",
   "metadata": {},
   "source": [
    "#print = \"This is a message\""
   ],
   "outputs": [],
   "execution_count": null
  },
  {
   "cell_type": "code",
   "id": "1d38023f-4e72-4024-ad0a-526fc114647a",
   "metadata": {},
   "source": [
    "#print(\"Something\")"
   ],
   "outputs": [],
   "execution_count": null
  },
  {
   "cell_type": "code",
   "id": "d20d82c2-f0c3-404e-9fae-e6dc1a00e200",
   "metadata": {},
   "source": [
    "quarterly_revenue = 20\n",
    "\n",
    "this_variable_is_for_quaterly_revenue = 20\n",
    "\n",
    "r = 20"
   ],
   "outputs": [],
   "execution_count": null
  },
  {
   "cell_type": "code",
   "id": "b8eed2ab-6713-484d-b96d-b7ab1462dc08",
   "metadata": {},
   "source": [
    "VOTING_AGE = 18\n",
    "DRINKING_AGE = 21"
   ],
   "outputs": [],
   "execution_count": null
  },
  {
   "cell_type": "markdown",
   "id": "12d26f12-8223-4172-a498-c3de61bd4989",
   "metadata": {},
   "source": [
    "## Simple data types"
   ]
  },
  {
   "cell_type": "markdown",
   "id": "aee1e574-3091-4099-9abf-09adcc07e76b",
   "metadata": {},
   "source": [
    "### Strings"
   ]
  },
  {
   "cell_type": "code",
   "id": "43bd71b9-ba4b-4548-9057-fd7ac392c36a",
   "metadata": {},
   "source": [
    "study_program = \"Master in Management\"\n",
    "study_program = 'Master in Management'"
   ],
   "outputs": [],
   "execution_count": null
  },
  {
   "cell_type": "code",
   "id": "0411f74c-5a60-4abd-8910-342a961bb943",
   "metadata": {},
   "source": [
    "text_content = 'The name of my study program is \"Master in Management\"'\n",
    "print(text_content)"
   ],
   "outputs": [],
   "execution_count": null
  },
  {
   "cell_type": "code",
   "id": "0857f116-5ba6-42a0-a88a-ed12c0cefca0",
   "metadata": {},
   "source": [
    "text_content = \"The name of my study program is 'Master in Management'\"\n",
    "print(text_content)"
   ],
   "outputs": [],
   "execution_count": null
  },
  {
   "cell_type": "code",
   "id": "853f2d32-023f-4820-9b09-4356b8071719",
   "metadata": {},
   "source": [
    "\"\"\"This is a very long description.\n",
    "Such a long description can be defined \n",
    "using the triple quote.\n",
    "\"\"\""
   ],
   "outputs": [],
   "execution_count": null
  },
  {
   "cell_type": "code",
   "id": "422968ee-6398-42cf-a0e2-47f8aff603d6",
   "metadata": {},
   "source": [
    "name = \"Dan\"\n",
    "age = 30\n",
    "campus = \"Heilbronn\"\n",
    "print(f\"Hi, my name is {name}. I am {age}, and I am a student at TUM {campus}\")"
   ],
   "outputs": [],
   "execution_count": null
  },
  {
   "cell_type": "code",
   "id": "3320091e-0685-4682-956f-b3a0298f2ba2",
   "metadata": {},
   "source": [
    "text_content = \"TUM campus Heilbronn\""
   ],
   "outputs": [],
   "execution_count": null
  },
  {
   "cell_type": "code",
   "id": "fe3e9a10-85fd-4a3b-afcb-f9cd9f6427db",
   "metadata": {},
   "source": [
    "text_content.title()"
   ],
   "outputs": [],
   "execution_count": null
  },
  {
   "cell_type": "code",
   "id": "cee92410-22b5-45cf-9522-4827d45615d9",
   "metadata": {},
   "source": [
    "text_content.upper()"
   ],
   "outputs": [],
   "execution_count": null
  },
  {
   "cell_type": "code",
   "id": "b463898c-479c-4783-b162-c0031c5bd124",
   "metadata": {},
   "source": [
    "text_content.lower()"
   ],
   "outputs": [],
   "execution_count": null
  },
  {
   "cell_type": "code",
   "id": "4141ceca-2302-4bc1-8add-4c432a1a627a",
   "metadata": {},
   "source": [
    "first_name = \"Daniel\"\n",
    "last_name = \"Ross\"\n",
    "full_name = first_name + \" \" + last_name\n",
    "print(full_name)"
   ],
   "outputs": [],
   "execution_count": null
  },
  {
   "cell_type": "code",
   "id": "e717a87a-a629-4f8e-9263-83fabf5b6ac2",
   "metadata": {},
   "source": [
    "a = \"34\"\n",
    "b = \"13\"\n",
    "y = a + b\n",
    "print(y)"
   ],
   "outputs": [],
   "execution_count": null
  },
  {
   "cell_type": "code",
   "id": "135ee4de-1276-4091-9be0-58a88e52af1a",
   "metadata": {},
   "source": [
    "a = \"34\"\n",
    "b = \"13\"\n",
    "y = int(a) + int(b)\n",
    "print(y)"
   ],
   "outputs": [],
   "execution_count": null
  },
  {
   "cell_type": "code",
   "id": "ce11c19b-eb61-49c0-8de8-d3d13cdbede2",
   "metadata": {},
   "source": [
    "last_name = \" Ross \"\n",
    "last_name.strip()"
   ],
   "outputs": [],
   "execution_count": null
  },
  {
   "cell_type": "code",
   "id": "ac4ce0fc-88f2-4187-bfce-cab16a5dbd6e",
   "metadata": {},
   "source": [
    "address = \"Bildungscampus-9\"\n",
    "address.split(\"-\")"
   ],
   "outputs": [],
   "execution_count": null
  },
  {
   "cell_type": "code",
   "id": "27fe68ff-d91d-4e9c-a4b2-d4031a02e0bc",
   "metadata": {},
   "source": [
    "address = \"Bildungscampus-9\"\n",
    "address.startswith(\"Bi\")"
   ],
   "outputs": [],
   "execution_count": null
  },
  {
   "cell_type": "code",
   "id": "8c570593-eb5f-4fb8-b1fa-945f86dd9396",
   "metadata": {},
   "source": [
    "address = \"Bildungscampus-9\"\n",
    "address.endswith(\"8\")"
   ],
   "outputs": [],
   "execution_count": null
  },
  {
   "cell_type": "code",
   "id": "0e1760db-57de-4826-b0ee-99a3dd94db23",
   "metadata": {},
   "source": [
    "address = \"Bildungscampus-9\"\n",
    "address.replace(\"-9\",\",9\")"
   ],
   "outputs": [],
   "execution_count": null
  },
  {
   "cell_type": "code",
   "id": "8ed8abf0-ff04-4fd4-b679-767014790dba",
   "metadata": {},
   "source": [
    "my_string = \"Heilbronn City\""
   ],
   "outputs": [],
   "execution_count": null
  },
  {
   "cell_type": "code",
   "id": "7bb3ac83-66a6-452b-b990-83ba9beb01fe",
   "metadata": {},
   "source": [
    "my_string[4]"
   ],
   "outputs": [],
   "execution_count": null
  },
  {
   "cell_type": "code",
   "id": "d1ab1759-cdd5-4655-bb8b-0fe2999699cc",
   "metadata": {},
   "source": [
    "my_string[-10]"
   ],
   "outputs": [],
   "execution_count": null
  },
  {
   "cell_type": "code",
   "id": "dee070c9-958b-4250-8f74-c455456db2aa",
   "metadata": {},
   "source": [
    "my_string[4:9]"
   ],
   "outputs": [],
   "execution_count": null
  },
  {
   "cell_type": "code",
   "id": "f608d10f-b84f-41dc-8073-7689a2f7cdf6",
   "metadata": {},
   "source": [
    "my_string[3:]"
   ],
   "outputs": [],
   "execution_count": null
  },
  {
   "cell_type": "code",
   "id": "f67ef1aa-59a2-4015-9083-0448e3196bab",
   "metadata": {},
   "source": [
    "my_string[:5]"
   ],
   "outputs": [],
   "execution_count": null
  },
  {
   "cell_type": "code",
   "id": "67590b53-ac1c-4ef5-aa53-98582dfe2be6",
   "metadata": {},
   "source": [
    "my_string[-4:]"
   ],
   "outputs": [],
   "execution_count": null
  },
  {
   "cell_type": "markdown",
   "id": "23ce24a5-3382-463c-a64f-ad1acb40c859",
   "metadata": {},
   "source": [
    "### Numbers"
   ]
  },
  {
   "cell_type": "code",
   "id": "f0d073ae-2bf9-4e89-a70c-17645100a13f",
   "metadata": {},
   "source": [
    "int() # 1, 2, 58, 129\n",
    "float() # 1.5, 5.7, 129.0"
   ],
   "outputs": [],
   "execution_count": null
  },
  {
   "cell_type": "code",
   "id": "36710839-c209-49e5-b219-ee86ae15371c",
   "metadata": {},
   "source": [
    "x = 7.2\n",
    "y = 2\n",
    "print(f\"x + y = {x+y}\")\n",
    "print(f\"x - y = {x-y}\")\n",
    "print(f\"x * y = {x*y}\")\n",
    "print(f\"x / y = {x/y}\")\n",
    "print(f\"x // y = {x//y}\")\n",
    "print(f\"x ** y = {x**y}\")\n",
    "print(f\"x % y = {x%y}\")\n",
    "print(f\"-x = {-x}\")\n",
    "print(f\"+x = {+x}\")"
   ],
   "outputs": [],
   "execution_count": null
  },
  {
   "cell_type": "code",
   "id": "fa67b2ef-f880-4ff1-a804-c9713d7cd6eb",
   "metadata": {},
   "source": [
    "x = 7.25\n",
    "y = 2\n",
    "print(f\"abs(x) = {abs(x)}\")\n",
    "print(f\"divmod(x,y) = {divmod(x,y)}\")\n",
    "print(f\"pow(x,y) = {pow(x,y)}\")\n",
    "print(f\"round(x,1) = {round(x,1)}\")"
   ],
   "outputs": [],
   "execution_count": null
  },
  {
   "cell_type": "markdown",
   "id": "d27ada9e-cae8-43d1-ad69-c389ea06e420",
   "metadata": {},
   "source": [
    "### Booleans"
   ]
  },
  {
   "cell_type": "code",
   "id": "17376de2-f734-4b92-b428-8fdabb9146ce",
   "metadata": {},
   "source": [
    "True\n",
    "False"
   ],
   "outputs": [],
   "execution_count": null
  },
  {
   "cell_type": "code",
   "id": "75102571-d667-4b32-8a09-c33eadb2eeb8",
   "metadata": {},
   "source": [
    "x = 7.25\n",
    "y = 2\n",
    "print(f\"x == y: {x==y}\")\n",
    "print(f\"x != y: {x!=y}\")\n",
    "print(f\"x < y: {x<y}\")\n",
    "print(f\"x > y: {x>y}\")\n",
    "print(f\"x >= y: {x>=y}\")\n",
    "print(f\"x <= y: {x<=y}\")"
   ],
   "outputs": [],
   "execution_count": null
  },
  {
   "cell_type": "code",
   "id": "fdf8b87a-414f-45a8-9b96-972e087afef3",
   "metadata": {},
   "source": [
    "x = True\n",
    "y = False\n",
    "print(f\"x or y: {x or y}\")\n",
    "print(f\"x and y: {x and y}\")\n",
    "print(f\"not x: {not x}\")"
   ],
   "outputs": [],
   "execution_count": null
  },
  {
   "cell_type": "code",
   "id": "f64617a0-0ee0-4d1c-ae1a-a7410690afac",
   "metadata": {},
   "source": [
    "(2 > 3) and (6/2==3)"
   ],
   "outputs": [],
   "execution_count": null
  },
  {
   "cell_type": "code",
   "id": "810f5f71-8833-4c52-b50e-28a7117a19a7",
   "metadata": {},
   "source": [
    "(2 > 3) or (6/2==3)"
   ],
   "outputs": [],
   "execution_count": null
  },
  {
   "cell_type": "markdown",
   "id": "95a62331-1685-4a7d-90eb-ffc8d28e39a8",
   "metadata": {},
   "source": [
    "## Bit manipulation"
   ]
  },
  {
   "cell_type": "code",
   "id": "c470fc6d-61f2-440d-8d7c-4ae627a71425",
   "metadata": {},
   "source": [
    "a = 0b11001001 # Binary representation for int(201)\n",
    "mask = 0b11110000 # Binary representation for int(240)\n",
    "print(bin(a & mask))\n",
    "print(a & mask)"
   ],
   "outputs": [],
   "execution_count": null
  },
  {
   "cell_type": "code",
   "id": "263b29b7-b549-4ca8-b5c5-d045402c3b3f",
   "metadata": {},
   "source": [],
   "outputs": [],
   "execution_count": null
  }
 ],
 "metadata": {
  "kernelspec": {
   "display_name": "Python 3",
   "language": "python",
   "name": "python3"
  },
  "language_info": {
   "codemirror_mode": {
    "name": "ipython",
    "version": 3
   },
   "file_extension": ".py",
   "mimetype": "text/x-python",
   "name": "python",
   "nbconvert_exporter": "python",
   "pygments_lexer": "ipython3",
   "version": "3.9.8"
  }
 },
 "nbformat": 4,
 "nbformat_minor": 5
}
