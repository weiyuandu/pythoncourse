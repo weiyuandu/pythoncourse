{
 "cells": [
  {
   "cell_type": "code",
   "execution_count": 5,
   "id": "3abba2f3-5a5d-492b-baea-d1eddf97b931",
   "metadata": {},
   "outputs": [
    {
     "name": "stdout",
     "output_type": "stream",
     "text": [
      "[1, 3, 7]\n"
     ]
    }
   ],
   "source": [
    "def solution(number_list):\n",
    "    result = []\n",
    "    for number in numbers_list:\n",
    "        if number %2 !=0:\n",
    "            result.append(number)\n",
    "    return result\n",
    "numbers_list = [1,3,7,12]\n",
    "odd_number_list = solution(numbers_list)\n",
    "print(odd_number_list)"
   ]
  },
  {
   "cell_type": "code",
   "execution_count": 5,
   "id": "ae3e9cb6-b8c2-4712-83c8-5478fe5ebc06",
   "metadata": {},
   "outputs": [
    {
     "name": "stdout",
     "output_type": "stream",
     "text": [
      "15\n"
     ]
    }
   ],
   "source": [
    "def solution(range_of_number, to_mod):\n",
    "    result = 0\n",
    "    for i in range(range_of_number + 1):\n",
    "        if i % to_mod == 0:\n",
    "            result += i\n",
    "    return result\n",
    "print(solution(10,5))\n"
   ]
  },
  {
   "cell_type": "code",
   "execution_count": null,
   "id": "73fe5166-390e-4c57-b9ae-669bec874928",
   "metadata": {},
   "outputs": [],
   "source": []
  }
 ],
 "metadata": {
  "kernelspec": {
   "display_name": "Python 3 (ipykernel)",
   "language": "python",
   "name": "python3"
  },
  "language_info": {
   "codemirror_mode": {
    "name": "ipython",
    "version": 3
   },
   "file_extension": ".py",
   "mimetype": "text/x-python",
   "name": "python",
   "nbconvert_exporter": "python",
   "pygments_lexer": "ipython3",
   "version": "3.12.2"
  }
 },
 "nbformat": 4,
 "nbformat_minor": 5
}
